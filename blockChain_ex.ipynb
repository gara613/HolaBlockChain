{
 "cells": [
  {
   "cell_type": "markdown",
   "metadata": {},
   "source": [
    "# Basic blockChain example"
   ]
  },
  {
   "cell_type": "markdown",
   "metadata": {},
   "source": [
    "This Notebook is intended to show a simple implementation of a blockchain in Python, most of the code is self-explanatory. Only basic definitions of blockchain are considered. Take into account that to properly work, this need to include concertation of nodes and many other aspects not included here. \n",
    "\n",
    "The purpose of this example is only educational, any other use is not under the responsibility of the author."
   ]
  },
  {
   "cell_type": "markdown",
   "metadata": {},
   "source": [
    "Import the HASH calculator and datetime libraries"
   ]
  },
  {
   "cell_type": "code",
   "execution_count": 1,
   "metadata": {
    "collapsed": true
   },
   "outputs": [],
   "source": [
    "# -*- coding: utf-8 -*-\n",
    "\"\"\"\n",
    "Created on Sun Feb 25 22:50:51 2018\n",
    "\n",
    "@author: GAR\n",
    "\"\"\"\n",
    "import hashlib\n",
    "import datetime as date"
   ]
  },
  {
   "cell_type": "markdown",
   "metadata": {},
   "source": [
    "### Block class creation"
   ]
  },
  {
   "cell_type": "markdown",
   "metadata": {},
   "source": [
    "#### Initialization method\n",
    "\n",
    "The first step here is to create a block class, with the minimum attributes: \n",
    "\n",
    "<ul>\n",
    "<li> Index: Sequential block number into the chain.</li>\n",
    "<li> timeStamp: Date of block creation.</li>\n",
    "<li> proof: Proof of work token to be calculated before ay block inserrtion into the chain.</li>\n",
    "<li> data: arbitrary data, JSON is a suggestion to enter the data.</li>\n",
    "<li> previousHash: previous block hash, yes, this is the main trick behind the blockchain.</li>\n",
    "<li> hash: Current block hash, to be used by successive blocks.</li>\n",
    "</ul>\n",
    "\n",
    "#### Hash calculation method\n",
    "Simply use a library hash calculator (Don't try to do this by yourself, unless you really know what you are doing)\n",
    "\n",
    "#### Mine Block method\n",
    "This includes a proof of effort to guarantee that the block to insert is not computed on the fly, as this would allow to change an entire chain before any transaction is carried out, ruining the security purpose of the blockchain."
   ]
  },
  {
   "cell_type": "code",
   "execution_count": 2,
   "metadata": {
    "collapsed": true
   },
   "outputs": [],
   "source": [
    "class myBlock:\n",
    "    def __init__ (self,index,proof,data,timestamp='',previousHash=''):\n",
    "        self.index = index;\n",
    "        self.timestamp = timestamp; \n",
    "        self.proof = proof;\n",
    "        self.data = data;\n",
    "        self.previousHash = previousHash;\n",
    "        self.hash = self.calculateHash();                                     \n",
    "\n",
    "    def calculateHash(self):\n",
    "        return hashlib.sha256((str(self.index) + str(self.timestamp) + str(self.proof) + str(self.data) + str(self.previousHash)).encode('utf-8')).hexdigest()\n",
    "    \n",
    "    def mineBlock(self,difficulty):        \n",
    "        while self.hash[0:difficulty] != '0' * difficulty:\n",
    "            self.proof += 1;\n",
    "            self.hash=self.calculateHash();\n",
    "        print(\"Block mined: \" + self.hash);    \n",
    "        "
   ]
  },
  {
   "cell_type": "markdown",
   "metadata": {},
   "source": [
    "### Chain class creation"
   ]
  },
  {
   "cell_type": "markdown",
   "metadata": {},
   "source": [
    "Once the Block class is defined the BlockChain class allows to create a chain of blocks according to some policies:\n",
    "<ul>\n",
    "<li> First block in the chain is the so called genesis block, which is a default initializer.</li>\n",
    "<li> When a block is inserted into the chain, it must contain the hash of the previous block.</li>\n",
    "</ul>\n",
    "The methods within this class are:\n",
    "#### Initialization\n",
    "This creates the chain inserting the genesis block. And also establishes the (static) difficulty (a serius implementation should change difficulty over time), used in this version as a metric for the proof of work.\n",
    "#### Create genesis Block\n",
    "Creates an initial block with index \"0\", and default data.\n",
    "#### Get last block\n",
    "Is a method to return...\n",
    "#### Add block \n",
    "Is a method to push a calculated block to the chain \n",
    "#### Chain validation\n",
    "Tells if the chain has been altered or if it is legal"
   ]
  },
  {
   "cell_type": "code",
   "execution_count": 3,
   "metadata": {
    "collapsed": true
   },
   "outputs": [],
   "source": [
    "class myBlockchain:\n",
    "        def __init__ (self):\n",
    "            self.chain = [self.createGenesisBlock()]\n",
    "            self.difficulty=4;\n",
    "        \n",
    "        def createGenesisBlock(self):\n",
    "            return myBlock(0,0,\"Genesis data\",date.datetime.now(),\"0\")\n",
    "        \n",
    "        def getLastBlock(self):\n",
    "            return self.chain[len(self.chain)-1]\n",
    "        \n",
    "        def addBlock(self,newBlock):\n",
    "            newBlock.previousHash = self.getLastBlock().hash\n",
    "            newBlock.timestamp = date.datetime.now();\n",
    "            newBlock.mineBlock(self.difficulty);\n",
    "            newBlock.hash = newBlock.calculateHash()\n",
    "            self.chain.append(newBlock)\n",
    "            \n",
    "        def isChainValid(self):\n",
    "            for cont in range(1,len(self.chain)):\n",
    "\n",
    "                currentBlock = self.chain[cont]\n",
    "                previousBlock = self.chain[cont-1]\n",
    "\n",
    "                if currentBlock.hash != currentBlock.calculateHash():\n",
    "                    return False\n",
    "                \n",
    "                if currentBlock.previousHash != previousBlock.hash:\n",
    "                    return False\n",
    "            return True\n",
    "                "
   ]
  },
  {
   "cell_type": "markdown",
   "metadata": {},
   "source": [
    "### Testing code"
   ]
  },
  {
   "cell_type": "markdown",
   "metadata": {},
   "source": [
    "Finally, put those lines to work..."
   ]
  },
  {
   "cell_type": "code",
   "execution_count": 4,
   "metadata": {},
   "outputs": [
    {
     "name": "stdout",
     "output_type": "stream",
     "text": [
      "{index: 0}\n",
      "{timestamp: 2018-02-26 18:01:11.800206}\n",
      "{proof: 0}\n",
      "{data: Genesis data}\n",
      "{previousHash: 0}\n",
      "{hash: d879c0399c4dec87a798fe30af0fc1dd5fff957f223426d0d3a72ccb0b02b4e5}\n",
      "}\n",
      "Mining block...\n",
      "Block mined: 00008c2d8024543487d7927cc426376daed47235dfab80bfbaf82a49fbfb904a\n",
      "Mining block...\n",
      "Block mined: 000096114703d0fcc4c3e9ad027a43fa33316c2b67cf385308fc406ea7daca62\n"
     ]
    }
   ],
   "source": [
    "# instances and initializes the block chain with the genesis block\n",
    "garChain=myBlockchain()\n",
    "\n",
    "# display the chain contents (this could be a method for the block or chain class)\n",
    "# for attr, value in garChain.chain[0].__dict__.iteritems(): # python 2.7\n",
    "for attr, value in garChain.chain[0].__dict__.items():\n",
    "    print (\"{\" + str(attr) + \": \" +  str(value) + \"}\")\n",
    "print(\"}\")\n",
    "\n",
    "# adds a block to the chain\n",
    "print(\"Mining block...\")\n",
    "garChain.addBlock( myBlock(1,1,{'from': 'GAR', 'to': 'GAR', 'concept': 'car','value': 10} ) )\n",
    "\n",
    "# another block\n",
    "print(\"Mining block...\")\n",
    "garChain.addBlock( myBlock(2,2,{'from': 'GAR_1', 'to': 'GAR_2', 'concept': 'house','value': 20} ) )"
   ]
  },
  {
   "cell_type": "code",
   "execution_count": 5,
   "metadata": {},
   "outputs": [
    {
     "name": "stdout",
     "output_type": "stream",
     "text": [
      "{\n",
      "{index: 0}\n",
      "{timestamp: 2018-02-26 18:01:11.800206}\n",
      "{proof: 0}\n",
      "{data: Genesis data}\n",
      "{previousHash: 0}\n",
      "{hash: d879c0399c4dec87a798fe30af0fc1dd5fff957f223426d0d3a72ccb0b02b4e5}\n",
      "}\n",
      "{\n",
      "{index: 1}\n",
      "{timestamp: 2018-02-26 18:01:11.800206}\n",
      "{proof: 169983}\n",
      "{data: {'from': 'GAR', 'to': 'GAR', 'concept': 'car', 'value': 10}}\n",
      "{previousHash: d879c0399c4dec87a798fe30af0fc1dd5fff957f223426d0d3a72ccb0b02b4e5}\n",
      "{hash: 00008c2d8024543487d7927cc426376daed47235dfab80bfbaf82a49fbfb904a}\n",
      "}\n",
      "{\n",
      "{index: 2}\n",
      "{timestamp: 2018-02-26 18:01:13.167727}\n",
      "{proof: 62039}\n",
      "{data: {'from': 'GAR_1', 'to': 'GAR_2', 'concept': 'house', 'value': 20}}\n",
      "{previousHash: 00008c2d8024543487d7927cc426376daed47235dfab80bfbaf82a49fbfb904a}\n",
      "{hash: 000096114703d0fcc4c3e9ad027a43fa33316c2b67cf385308fc406ea7daca62}\n",
      "}\n",
      "The current chain is: True\n"
     ]
    }
   ],
   "source": [
    "# visualize the entire chain\n",
    "for cont in range(len(garChain.chain)):\n",
    "    print(\"{\")\n",
    "    for attr, value in garChain.chain[cont].__dict__.items():\n",
    "        print (\"{\" + str(attr) + \": \" +  str(value) + \"}\")\n",
    "    print(\"}\")\n",
    "\n",
    "# determine if the chain is valid\n",
    "print (\"The current chain is: \" + str(garChain.isChainValid()))"
   ]
  },
  {
   "cell_type": "code",
   "execution_count": 6,
   "metadata": {},
   "outputs": [
    {
     "name": "stdout",
     "output_type": "stream",
     "text": [
      "{\n",
      "{index: 0}\n",
      "{timestamp: 2018-02-26 18:01:11.800206}\n",
      "{proof: 0}\n",
      "{data: Genesis data}\n",
      "{previousHash: 0}\n",
      "{hash: d879c0399c4dec87a798fe30af0fc1dd5fff957f223426d0d3a72ccb0b02b4e5}\n",
      "}\n",
      "{\n",
      "{index: 1}\n",
      "{timestamp: 2018-02-26 18:01:11.800206}\n",
      "{proof: 169983}\n",
      "{data: {'concept': 'car', 'value': 10}}\n",
      "{previousHash: d879c0399c4dec87a798fe30af0fc1dd5fff957f223426d0d3a72ccb0b02b4e5}\n",
      "{hash: 923bf2f29791e6f561d63f44d1a18995329e1d06ef81f636623f4a74de71d9e8}\n",
      "}\n",
      "{\n",
      "{index: 2}\n",
      "{timestamp: 2018-02-26 18:01:13.167727}\n",
      "{proof: 62039}\n",
      "{data: {'from': 'GAR_1', 'to': 'GAR_2', 'concept': 'house', 'value': 20}}\n",
      "{previousHash: 00008c2d8024543487d7927cc426376daed47235dfab80bfbaf82a49fbfb904a}\n",
      "{hash: 000096114703d0fcc4c3e9ad027a43fa33316c2b67cf385308fc406ea7daca62}\n",
      "}\n",
      "The current chain is: False\n"
     ]
    }
   ],
   "source": [
    "# now, try to modify the chain contents and \"deceive\" the blockchain altering the hash value...\n",
    "garChain.chain[1].data={'concept': 'car','value': 10};\n",
    "garChain.chain[1].hash=garChain.chain[1].calculateHash()\n",
    "\n",
    "for cont in range(len(garChain.chain)):\n",
    "    print(\"{\")\n",
    "    for attr, value in garChain.chain[cont].__dict__.items():\n",
    "        print (\"{\" + str(attr) + \": \" +  str(value) + \"}\")\n",
    "    print(\"}\")\n",
    "\n",
    "print (\"The current chain is: \" + str(garChain.isChainValid()))"
   ]
  },
  {
   "cell_type": "markdown",
   "metadata": {},
   "source": [
    "### Conclusions and future work\n",
    "This basic example has a lot of room for improvement, the interested user is invitd to clone, share, comment, suggest changes and modify this example for the well of other people.\n",
    "\n",
    "Interesting changes are, but not limited to:\n",
    "<ul>\n",
    "<li> Create some data reading and block/chain visualization methods.</li>\n",
    "<li> Create a data class for specific kind of transactions.</li>\n",
    "<li> Create the network for distributed processing of blockChain.</li>\n",
    "</ul>"
   ]
  },
  {
   "cell_type": "markdown",
   "metadata": {},
   "source": [
    "### References\n",
    "<ul>\n",
    "<li> S. Nakamoto, \"Bitcoin: A Peer-to-Peer Electronic Cash System\", 2009, online: https://bitcoin.org/bitcoin.pdf .</li>\n",
    "<li> Ethereum team, \"Ethereum White Paper - A Next-Generation Smart Contract and Decentralized Application Platform\", live document, online: https://github.com/ethereum/wiki/wiki/White-Paper</li>\n",
    "</ul>"
   ]
  },
  {
   "cell_type": "code",
   "execution_count": null,
   "metadata": {
    "collapsed": true
   },
   "outputs": [],
   "source": []
  }
 ],
 "metadata": {
  "kernelspec": {
   "display_name": "Python 3",
   "language": "python",
   "name": "python3"
  },
  "language_info": {
   "codemirror_mode": {
    "name": "ipython",
    "version": 3
   },
   "file_extension": ".py",
   "mimetype": "text/x-python",
   "name": "python",
   "nbconvert_exporter": "python",
   "pygments_lexer": "ipython3",
   "version": "3.6.3"
  }
 },
 "nbformat": 4,
 "nbformat_minor": 2
}
